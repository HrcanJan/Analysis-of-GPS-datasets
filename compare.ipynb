{
 "cells": [
  {
   "cell_type": "code",
   "execution_count": 6,
   "metadata": {},
   "outputs": [],
   "source": [
    "import pandas as pd\n",
    "\n",
    "df = pd.read_csv('data2/geolife_global_meets.csv')\n",
    "\n",
    "def extract_persons(users):\n",
    "\tpersons = eval(users)\n",
    "\tperson_a, person_b = map(int, persons)\n",
    "\treturn (person_a, person_b) if person_a < person_b else (person_b, person_a)\n",
    "\n",
    "df['person_a'], df['person_b'] = zip(*df['users'].apply(extract_persons))\n",
    "\n",
    "def count_meetings(meetings):\n",
    "\treturn len(eval(meetings))\n",
    "\n",
    "df['count'] = df['meetings'].apply(count_meetings)\n",
    "\n",
    "counts = df.groupby(['person_a', 'person_b']).agg({'count': 'sum'}).reset_index()\n",
    "\n",
    "counts = counts.sort_values(by='person_a')\n",
    "\n",
    "counts.to_csv('data2/new_table.csv', index=False)\n"
   ]
  },
  {
   "cell_type": "code",
   "execution_count": 10,
   "metadata": {},
   "outputs": [
    {
     "name": "stdout",
     "output_type": "stream",
     "text": [
      "All count values match.\n"
     ]
    }
   ],
   "source": [
    "import pandas as pd\n",
    "\n",
    "df1 = pd.read_csv('data/geolife_geohash_size_8_edges.csv')\n",
    "df2 = pd.read_csv('data2/new_table.csv')\n",
    "\n",
    "merged_df = pd.merge(df1, df2, on=['person_a', 'person_b'], suffixes=('_df1', '_df2'))\n",
    "\n",
    "count_comparison = merged_df['count_df1'] == merged_df['count_df2']\n",
    "\n",
    "if count_comparison.all():\n",
    "\tprint(\"All count values match.\")\n",
    "else:\n",
    "\tprint(\"Not all count values match.\")"
   ]
  }
 ],
 "metadata": {
  "kernelspec": {
   "display_name": "Python 3",
   "language": "python",
   "name": "python3"
  },
  "language_info": {
   "codemirror_mode": {
    "name": "ipython",
    "version": 3
   },
   "file_extension": ".py",
   "mimetype": "text/x-python",
   "name": "python",
   "nbconvert_exporter": "python",
   "pygments_lexer": "ipython3",
   "version": "3.12.0"
  }
 },
 "nbformat": 4,
 "nbformat_minor": 2
}
