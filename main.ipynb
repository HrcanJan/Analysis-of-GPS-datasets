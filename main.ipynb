{
 "cells": [
  {
   "cell_type": "code",
   "execution_count": 21,
   "metadata": {},
   "outputs": [],
   "source": [
    "import os\n",
    "import pandas as pd\n",
    "import load_geolife\n",
    "import add_geohash\n",
    "import create_nodes\n",
    "import geohash_location_count\n",
    "import geohash_user_count\n",
    "import create_geohash_meet\n",
    "import create_geohash_meet_time"
   ]
  },
  {
   "cell_type": "code",
   "execution_count": 14,
   "metadata": {},
   "outputs": [],
   "source": [
    "def create_dirs():\n",
    "    if not os.path.isdir('images/'):\n",
    "        os.makedirs('images/')\n",
    "    if not os.path.isdir('htmls/'):\n",
    "        os.makedirs('htmls/')\n",
    "    if not os.path.isdir('data/'):\n",
    "        os.makedirs('data/')"
   ]
  },
  {
   "cell_type": "code",
   "execution_count": 15,
   "metadata": {},
   "outputs": [],
   "source": [
    "def removeDuplicates():\n",
    "    duplicates = pd.read_csv('data/geolife_duplicates_content.csv')\n",
    "    df = pd.read_csv('data/geolife_geohash_size_8.csv')\n",
    "    df['px'] = df['Person ID'].astype('string') + \"_\" + df['Trajectory'].astype('string') + \".plt\"\n",
    "    duplicates['px'] = duplicates['user'].astype('string')+\"_\"+duplicates['file_name'].astype('string')\n",
    "    noduplicates = df[~df['px'].isin(duplicates['px'])].copy(deep=True)\n",
    "    noduplicates.to_csv('data/geolife_geohash_size_8_no_duplicates.csv',index=False)\n"
   ]
  },
  {
   "cell_type": "code",
   "execution_count": 23,
   "metadata": {},
   "outputs": [
    {
     "ename": "AttributeError",
     "evalue": "module 'create_geohash_meet_time' has no attribute 'create_geohash_time_meets'",
     "output_type": "error",
     "traceback": [
      "\u001b[1;31m---------------------------------------------------------------------------\u001b[0m",
      "\u001b[1;31mAttributeError\u001b[0m                            Traceback (most recent call last)",
      "Cell \u001b[1;32mIn[23], line 12\u001b[0m\n\u001b[0;32m      1\u001b[0m \u001b[38;5;66;03m# create_dirs()\u001b[39;00m\n\u001b[0;32m      2\u001b[0m \u001b[38;5;66;03m# load_geolife.load_geolife('./geolife/Data/')\u001b[39;00m\n\u001b[0;32m      3\u001b[0m \u001b[38;5;66;03m# add_geohash.add_geohash()\u001b[39;00m\n\u001b[1;32m   (...)\u001b[0m\n\u001b[0;32m      9\u001b[0m \u001b[38;5;66;03m# count_files = create_geohash_meet.createGeohashMeetJsons()\u001b[39;00m\n\u001b[0;32m     10\u001b[0m \u001b[38;5;66;03m# create_geohash_meet.createGeohashMeetCSV(count_files)\u001b[39;00m\n\u001b[1;32m---> 12\u001b[0m \u001b[43mcreate_geohash_meet_time\u001b[49m\u001b[38;5;241;43m.\u001b[39;49m\u001b[43mcreate_geohash_time_meets\u001b[49m()\n",
      "\u001b[1;31mAttributeError\u001b[0m: module 'create_geohash_meet_time' has no attribute 'create_geohash_time_meets'"
     ]
    }
   ],
   "source": [
    "create_dirs()\n",
    "load_geolife.load_geolife('./geolife/Data/')\n",
    "add_geohash.add_geohash()\n",
    "\n",
    "removeDuplicates()\n",
    "create_nodes.create_nodes()\n",
    "geohash_location_count.geohash_location_count()\n",
    "geohash_user_count.geohash_user_count()\n",
    "count_files = create_geohash_meet.createGeohashMeetJsons()\n",
    "create_geohash_meet.createGeohashMeetCSV(count_files)\n",
    "\n",
    "create_geohash_meet_time.create_geohash_time_meets()"
   ]
  }
 ],
 "metadata": {
  "kernelspec": {
   "display_name": "Python 3",
   "language": "python",
   "name": "python3"
  },
  "language_info": {
   "codemirror_mode": {
    "name": "ipython",
    "version": 3
   },
   "file_extension": ".py",
   "mimetype": "text/x-python",
   "name": "python",
   "nbconvert_exporter": "python",
   "pygments_lexer": "ipython3",
   "version": "3.12.0"
  }
 },
 "nbformat": 4,
 "nbformat_minor": 2
}
