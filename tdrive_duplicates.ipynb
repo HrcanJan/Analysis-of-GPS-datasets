{
 "cells": [
  {
   "cell_type": "code",
   "execution_count": 5,
   "metadata": {},
   "outputs": [],
   "source": [
    "from tqdm import tqdm\n",
    "import os\n",
    "import numpy as np\n",
    "import pandas as pd"
   ]
  },
  {
   "cell_type": "code",
   "execution_count": 6,
   "metadata": {},
   "outputs": [
    {
     "name": "stderr",
     "output_type": "stream",
     "text": [
      "  0%|          | 0/10357 [00:00<?, ?it/s]"
     ]
    },
    {
     "name": "stderr",
     "output_type": "stream",
     "text": [
      "100%|██████████| 10357/10357 [00:24<00:00, 416.63it/s]\n"
     ]
    }
   ],
   "source": [
    "def load_tdrive(data_path):\n",
    "\ttrajectories = {}\n",
    "\tduplicates = []\n",
    "\n",
    "\tfor file in tqdm(os.listdir(data_path)):\n",
    "\t\tfile_path = os.path.join(data_path, file)\n",
    "\n",
    "\t\ttry:\n",
    "\t\t\tcolumn_names = ['Person ID', 'Timestamp', 'Longitude', 'Latitude']\n",
    "\t\t\tlabels_df = pd.read_csv(file_path, sep=',', names=column_names)\n",
    "\n",
    "\t\t\tif labels_df.empty:\n",
    "\t\t\t\tcontinue\n",
    "\n",
    "\t\t\tfirst_timestamp = pd.to_datetime(labels_df['Timestamp'].iloc[0])\n",
    "\t\t\ttrajectory_format = first_timestamp.strftime('%Y%m%d%H%M%S')\n",
    "\t\t\tfirst_line = labels_df.iloc[0]\n",
    "\n",
    "\t\t\tif trajectory_format in trajectories:\n",
    "\t\t\t\tif trajectories[trajectory_format] == first_line.tolist():\n",
    "\t\t\t\t\tduplicates.append((file, trajectories[trajectory_format][0]))\n",
    "\t\t\telse:\n",
    "\t\t\t\ttrajectories[trajectory_format] = first_line.tolist()\n",
    "\n",
    "\t\texcept pd.errors.EmptyDataError:\n",
    "\t\t\tcontinue\n",
    "\n",
    "\treturn duplicates\n",
    "\n",
    "data_path = './tdrive/taxi_log_2008_by_id'\n",
    "\n",
    "duplicates = load_tdrive(data_path)\n"
   ]
  },
  {
   "cell_type": "code",
   "execution_count": 7,
   "metadata": {},
   "outputs": [
    {
     "name": "stdout",
     "output_type": "stream",
     "text": [
      "No duplicate trajectories found.\n"
     ]
    }
   ],
   "source": [
    "if duplicates:\n",
    "    print(\"Duplicate trajectories found:\")\n",
    "    for duplicate in duplicates:\n",
    "        print(f\"File: {duplicate[0]}, First Timestamp: {duplicate[1]}\")\n",
    "else:\n",
    "    print(\"No duplicate trajectories found.\")"
   ]
  }
 ],
 "metadata": {
  "kernelspec": {
   "display_name": "Python 3",
   "language": "python",
   "name": "python3"
  },
  "language_info": {
   "codemirror_mode": {
    "name": "ipython",
    "version": 3
   },
   "file_extension": ".py",
   "mimetype": "text/x-python",
   "name": "python",
   "nbconvert_exporter": "python",
   "pygments_lexer": "ipython3",
   "version": "3.12.0"
  }
 },
 "nbformat": 4,
 "nbformat_minor": 2
}
